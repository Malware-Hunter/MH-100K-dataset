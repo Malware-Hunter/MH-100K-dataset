{
 "cells": [
  {
   "cell_type": "markdown",
   "id": "5d792e55-2b54-4f38-bf97-dc65732a4952",
   "metadata": {
    "tags": []
   },
   "source": [
    "# Imports"
   ]
  },
  {
   "cell_type": "code",
   "execution_count": 56,
   "id": "e48d2631-9547-4244-82bd-b0be8fd68fad",
   "metadata": {},
   "outputs": [],
   "source": [
    "import numpy as np\n",
    "import pandas as pd\n",
    "from pandas import DataFrame as dataframe\n",
    "import matplotlib.pyplot as plt\n",
    "import seaborn as sns\n",
    "import os\n",
    "from os.path import join\n",
    "# from tqdm import tqdm\n",
    "\n",
    "\n",
    "# # import shap\n",
    "\n",
    "# # !pip install xgboost\n",
    "# # clear_output()\n",
    "# # check xgboost version\n",
    "# import xgboost\n",
    "# print(xgboost.__version__)\n",
    "# from xgboost import XGBClassifier"
   ]
  },
  {
   "cell_type": "code",
   "execution_count": 46,
   "id": "d791898b-2548-40ef-a5d8-7a94a94e7296",
   "metadata": {},
   "outputs": [
    {
     "name": "stdout",
     "output_type": "stream",
     "text": [
      "D:\\mh100\\MH-100K-dataset\n"
     ]
    }
   ],
   "source": [
    "print(os.getcwd())\n",
    "\n",
    "base_dir = os.getcwd()\n",
    "paths={\n",
    "    'raw': join(base_dir, 'data'),\n",
    "    'processed': join(base_dir, 'processed'),\n",
    "    'models': join(base_dir, 'models')\n",
    "}"
   ]
  },
  {
   "cell_type": "code",
   "execution_count": 4,
   "id": "0eb3d32b-5169-431f-9d7e-4df685c34ec9",
   "metadata": {},
   "outputs": [
    {
     "data": {
      "text/plain": [
       "['.ipynb_checkpoints',\n",
       " 'mh100-features-all.csv',\n",
       " 'mh100-features-classes.csv',\n",
       " 'mh100.npy',\n",
       " 'mh100_labels.csv',\n",
       " 'mh100_vt-labels.csv']"
      ]
     },
     "execution_count": 4,
     "metadata": {},
     "output_type": "execute_result"
    }
   ],
   "source": [
    "os.listdir(paths['processed'])"
   ]
  },
  {
   "cell_type": "code",
   "execution_count": 5,
   "id": "ce88b695-2dc8-429d-ad29-9aa155a427aa",
   "metadata": {},
   "outputs": [
    {
     "data": {
      "text/html": [
       "<div>\n",
       "<style scoped>\n",
       "    .dataframe tbody tr th:only-of-type {\n",
       "        vertical-align: middle;\n",
       "    }\n",
       "\n",
       "    .dataframe tbody tr th {\n",
       "        vertical-align: top;\n",
       "    }\n",
       "\n",
       "    .dataframe thead th {\n",
       "        text-align: right;\n",
       "    }\n",
       "</style>\n",
       "<table border=\"1\" class=\"dataframe\">\n",
       "  <thead>\n",
       "    <tr style=\"text-align: right;\">\n",
       "      <th></th>\n",
       "      <th>filename</th>\n",
       "    </tr>\n",
       "  </thead>\n",
       "  <tbody>\n",
       "    <tr>\n",
       "      <th>0</th>\n",
       "      <td>.ipynb_checkpoints</td>\n",
       "    </tr>\n",
       "    <tr>\n",
       "      <th>1</th>\n",
       "      <td>mh100-features-all.csv</td>\n",
       "    </tr>\n",
       "    <tr>\n",
       "      <th>2</th>\n",
       "      <td>mh100-features-classes.csv</td>\n",
       "    </tr>\n",
       "    <tr>\n",
       "      <th>3</th>\n",
       "      <td>mh100.npy</td>\n",
       "    </tr>\n",
       "    <tr>\n",
       "      <th>4</th>\n",
       "      <td>mh100_labels.csv</td>\n",
       "    </tr>\n",
       "    <tr>\n",
       "      <th>5</th>\n",
       "      <td>mh100_vt-labels.csv</td>\n",
       "    </tr>\n",
       "  </tbody>\n",
       "</table>\n",
       "</div>"
      ],
      "text/plain": [
       "                     filename\n",
       "0          .ipynb_checkpoints\n",
       "1      mh100-features-all.csv\n",
       "2  mh100-features-classes.csv\n",
       "3                   mh100.npy\n",
       "4            mh100_labels.csv\n",
       "5         mh100_vt-labels.csv"
      ]
     },
     "execution_count": 5,
     "metadata": {},
     "output_type": "execute_result"
    }
   ],
   "source": [
    "files = dataframe(os.listdir(paths['processed']), columns=['filename'])\n",
    "files"
   ]
  },
  {
   "cell_type": "markdown",
   "id": "7e65cc5e-c874-4242-a69e-03a9c3a998c8",
   "metadata": {},
   "source": [
    "# Load MH100 dataset"
   ]
  },
  {
   "cell_type": "code",
   "execution_count": 32,
   "id": "96c565b1-9db8-4944-a1a8-ca4209a17236",
   "metadata": {},
   "outputs": [],
   "source": [
    "def load_mh100(dataset_path, labels_path, features_path):\n",
    "    dataset = np.load(dataset_path)\n",
    "    labels = pd.read_csv(labels_path, index_col=0)\n",
    "    feature_names =  pd.read_csv(features_path, index_col=0)    \n",
    "    classes_names = ['benign', 'malware']\n",
    "    return dataset, labels, feature_names, classes_names"
   ]
  },
  {
   "cell_type": "code",
   "execution_count": 26,
   "id": "7d34b451-07c9-46f4-9203-46b30970ebef",
   "metadata": {},
   "outputs": [
    {
     "data": {
      "text/plain": [
       "['.ipynb_checkpoints',\n",
       " 'mh100-features-all.csv',\n",
       " 'mh100-features-classes.csv',\n",
       " 'mh100.npy',\n",
       " 'mh100_labels.csv',\n",
       " 'mh100_vt-labels.csv']"
      ]
     },
     "execution_count": 26,
     "metadata": {},
     "output_type": "execute_result"
    }
   ],
   "source": [
    "os.listdir(paths['processed'])"
   ]
  },
  {
   "cell_type": "code",
   "execution_count": 33,
   "id": "a405ea1a-f9f7-456d-885d-775383ac66a5",
   "metadata": {},
   "outputs": [],
   "source": [
    "data, labels, feature_names, classes_names = load_mh100(\n",
    "    dataset_path =join(paths['processed'], 'mh100.npy'),\n",
    "    labels_path = join(paths['processed'], 'mh100_labels.csv'),\n",
    "    features_path = join(paths['processed'], 'mh100-features-all.csv')\n",
    ")"
   ]
  },
  {
   "cell_type": "code",
   "execution_count": 76,
   "id": "54c08251-eee3-47ee-b82a-faf41af478f3",
   "metadata": {},
   "outputs": [
    {
     "name": "stdout",
     "output_type": "stream",
     "text": [
      "(101934, 24833) (101934, 9) (24833, 1)\n"
     ]
    }
   ],
   "source": [
    "print(data.shape, labels.shape, feature_names.shape)"
   ]
  },
  {
   "cell_type": "code",
   "execution_count": 35,
   "id": "f54c5f1d-a76c-4ded-8be5-2c9e7e3ac643",
   "metadata": {},
   "outputs": [
    {
     "data": {
      "text/html": [
       "<div>\n",
       "<style scoped>\n",
       "    .dataframe tbody tr th:only-of-type {\n",
       "        vertical-align: middle;\n",
       "    }\n",
       "\n",
       "    .dataframe tbody tr th {\n",
       "        vertical-align: top;\n",
       "    }\n",
       "\n",
       "    .dataframe thead th {\n",
       "        text-align: right;\n",
       "    }\n",
       "</style>\n",
       "<table border=\"1\" class=\"dataframe\">\n",
       "  <thead>\n",
       "    <tr style=\"text-align: right;\">\n",
       "      <th></th>\n",
       "      <th>SHA256</th>\n",
       "      <th>NOME</th>\n",
       "      <th>PACOTE</th>\n",
       "      <th>API_MIN</th>\n",
       "      <th>API</th>\n",
       "      <th>vt_detection</th>\n",
       "      <th>CLASS</th>\n",
       "      <th>VT_Malware_Deteccao</th>\n",
       "      <th>AZ_Malware_Deteccao</th>\n",
       "    </tr>\n",
       "  </thead>\n",
       "  <tbody>\n",
       "    <tr>\n",
       "      <th>0</th>\n",
       "      <td>080da3f89e42250d7462e17b40535cfca9b1a6a8370a31...</td>\n",
       "      <td>2019 شاب دوزي‎</td>\n",
       "      <td>com.arabprod.aghani.douzi</td>\n",
       "      <td>10</td>\n",
       "      <td>26</td>\n",
       "      <td>0</td>\n",
       "      <td>0</td>\n",
       "      <td>0</td>\n",
       "      <td>0</td>\n",
       "    </tr>\n",
       "    <tr>\n",
       "      <th>1</th>\n",
       "      <td>461760796dd7789673cfaf68383da103033d54eb4a5267...</td>\n",
       "      <td>Ishas</td>\n",
       "      <td>appinventor.ai_shameertanur.Ishas</td>\n",
       "      <td>7</td>\n",
       "      <td>28</td>\n",
       "      <td>0</td>\n",
       "      <td>0</td>\n",
       "      <td>1</td>\n",
       "      <td>0</td>\n",
       "    </tr>\n",
       "    <tr>\n",
       "      <th>2</th>\n",
       "      <td>dab8b14c3178b15200b23e47cecb9cc26b51c87d599ac0...</td>\n",
       "      <td>Lashes&amp;Go</td>\n",
       "      <td>net.flowww.z.sk596381</td>\n",
       "      <td>16</td>\n",
       "      <td>26</td>\n",
       "      <td>0</td>\n",
       "      <td>0</td>\n",
       "      <td>0</td>\n",
       "      <td>0</td>\n",
       "    </tr>\n",
       "    <tr>\n",
       "      <th>3</th>\n",
       "      <td>db802025f9ec474d79793ac2aac556d2b52162ebc493e2...</td>\n",
       "      <td>58到家</td>\n",
       "      <td>com.wuba.jiazheng</td>\n",
       "      <td>17</td>\n",
       "      <td>25</td>\n",
       "      <td>5</td>\n",
       "      <td>1</td>\n",
       "      <td>5</td>\n",
       "      <td>5</td>\n",
       "    </tr>\n",
       "    <tr>\n",
       "      <th>4</th>\n",
       "      <td>a44920abdd4915117412ad7695b8d95a1da5edfa513b09...</td>\n",
       "      <td>TEDDY AFRO</td>\n",
       "      <td>million.t.com.teddy.afro.com</td>\n",
       "      <td>16</td>\n",
       "      <td>27</td>\n",
       "      <td>2</td>\n",
       "      <td>1</td>\n",
       "      <td>1</td>\n",
       "      <td>2</td>\n",
       "    </tr>\n",
       "    <tr>\n",
       "      <th>...</th>\n",
       "      <td>...</td>\n",
       "      <td>...</td>\n",
       "      <td>...</td>\n",
       "      <td>...</td>\n",
       "      <td>...</td>\n",
       "      <td>...</td>\n",
       "      <td>...</td>\n",
       "      <td>...</td>\n",
       "      <td>...</td>\n",
       "    </tr>\n",
       "    <tr>\n",
       "      <th>101929</th>\n",
       "      <td>67c2668b321c1cd06e3b4f54261e9bc24d0be1ece92ed5...</td>\n",
       "      <td>Eric Clapton Lyrics</td>\n",
       "      <td>com.msmstudios.ericclyrics</td>\n",
       "      <td>15</td>\n",
       "      <td>23</td>\n",
       "      <td>6</td>\n",
       "      <td>1</td>\n",
       "      <td>4</td>\n",
       "      <td>6</td>\n",
       "    </tr>\n",
       "    <tr>\n",
       "      <th>101930</th>\n",
       "      <td>67c26a0ba216d216f652d6534225bc0534c4583fde6500...</td>\n",
       "      <td>Miner</td>\n",
       "      <td>com.PIG.Miner</td>\n",
       "      <td>16</td>\n",
       "      <td>27</td>\n",
       "      <td>0</td>\n",
       "      <td>0</td>\n",
       "      <td>0</td>\n",
       "      <td>0</td>\n",
       "    </tr>\n",
       "    <tr>\n",
       "      <th>101931</th>\n",
       "      <td>67c272489d9a82dbdc73a2da78167e035d88764c98ba3f...</td>\n",
       "      <td>Webloaded Tech</td>\n",
       "      <td>com.webloadedblog</td>\n",
       "      <td>21</td>\n",
       "      <td>29</td>\n",
       "      <td>0</td>\n",
       "      <td>0</td>\n",
       "      <td>0</td>\n",
       "      <td>0</td>\n",
       "    </tr>\n",
       "    <tr>\n",
       "      <th>101932</th>\n",
       "      <td>67c2744111f1ecdf28faf89ace9bf91d10163001db7bd7...</td>\n",
       "      <td>RepostExchange</td>\n",
       "      <td>com.repostexchange.app</td>\n",
       "      <td>23</td>\n",
       "      <td>28</td>\n",
       "      <td>0</td>\n",
       "      <td>0</td>\n",
       "      <td>0</td>\n",
       "      <td>0</td>\n",
       "    </tr>\n",
       "    <tr>\n",
       "      <th>101933</th>\n",
       "      <td>67c28aa0bb00161700683ca10cf25c2d1c50838bfd50fc...</td>\n",
       "      <td>Joy Music</td>\n",
       "      <td>com.joymusic.freemusic</td>\n",
       "      <td>21</td>\n",
       "      <td>28</td>\n",
       "      <td>0</td>\n",
       "      <td>0</td>\n",
       "      <td>0</td>\n",
       "      <td>0</td>\n",
       "    </tr>\n",
       "  </tbody>\n",
       "</table>\n",
       "<p>101934 rows × 9 columns</p>\n",
       "</div>"
      ],
      "text/plain": [
       "                                                   SHA256  \\\n",
       "0       080da3f89e42250d7462e17b40535cfca9b1a6a8370a31...   \n",
       "1       461760796dd7789673cfaf68383da103033d54eb4a5267...   \n",
       "2       dab8b14c3178b15200b23e47cecb9cc26b51c87d599ac0...   \n",
       "3       db802025f9ec474d79793ac2aac556d2b52162ebc493e2...   \n",
       "4       a44920abdd4915117412ad7695b8d95a1da5edfa513b09...   \n",
       "...                                                   ...   \n",
       "101929  67c2668b321c1cd06e3b4f54261e9bc24d0be1ece92ed5...   \n",
       "101930  67c26a0ba216d216f652d6534225bc0534c4583fde6500...   \n",
       "101931  67c272489d9a82dbdc73a2da78167e035d88764c98ba3f...   \n",
       "101932  67c2744111f1ecdf28faf89ace9bf91d10163001db7bd7...   \n",
       "101933  67c28aa0bb00161700683ca10cf25c2d1c50838bfd50fc...   \n",
       "\n",
       "                       NOME                             PACOTE  API_MIN  API  \\\n",
       "0            2019 شاب دوزي‎          com.arabprod.aghani.douzi       10   26   \n",
       "1                     Ishas  appinventor.ai_shameertanur.Ishas        7   28   \n",
       "2                 Lashes&Go              net.flowww.z.sk596381       16   26   \n",
       "3                      58到家                  com.wuba.jiazheng       17   25   \n",
       "4                TEDDY AFRO       million.t.com.teddy.afro.com       16   27   \n",
       "...                     ...                                ...      ...  ...   \n",
       "101929  Eric Clapton Lyrics         com.msmstudios.ericclyrics       15   23   \n",
       "101930                Miner                      com.PIG.Miner       16   27   \n",
       "101931       Webloaded Tech                  com.webloadedblog       21   29   \n",
       "101932       RepostExchange             com.repostexchange.app       23   28   \n",
       "101933            Joy Music             com.joymusic.freemusic       21   28   \n",
       "\n",
       "        vt_detection  CLASS  VT_Malware_Deteccao  AZ_Malware_Deteccao  \n",
       "0                  0      0                    0                    0  \n",
       "1                  0      0                    1                    0  \n",
       "2                  0      0                    0                    0  \n",
       "3                  5      1                    5                    5  \n",
       "4                  2      1                    1                    2  \n",
       "...              ...    ...                  ...                  ...  \n",
       "101929             6      1                    4                    6  \n",
       "101930             0      0                    0                    0  \n",
       "101931             0      0                    0                    0  \n",
       "101932             0      0                    0                    0  \n",
       "101933             0      0                    0                    0  \n",
       "\n",
       "[101934 rows x 9 columns]"
      ]
     },
     "execution_count": 35,
     "metadata": {},
     "output_type": "execute_result"
    }
   ],
   "source": [
    "labels"
   ]
  },
  {
   "cell_type": "code",
   "execution_count": 77,
   "id": "c9e48955-98bf-4478-a8d5-9acc4e1f5dd8",
   "metadata": {},
   "outputs": [
    {
     "data": {
      "text/html": [
       "<div>\n",
       "<style scoped>\n",
       "    .dataframe tbody tr th:only-of-type {\n",
       "        vertical-align: middle;\n",
       "    }\n",
       "\n",
       "    .dataframe tbody tr th {\n",
       "        vertical-align: top;\n",
       "    }\n",
       "\n",
       "    .dataframe thead th {\n",
       "        text-align: right;\n",
       "    }\n",
       "</style>\n",
       "<table border=\"1\" class=\"dataframe\">\n",
       "  <thead>\n",
       "    <tr style=\"text-align: right;\">\n",
       "      <th></th>\n",
       "      <th>features</th>\n",
       "    </tr>\n",
       "    <tr>\n",
       "      <th>index</th>\n",
       "      <th></th>\n",
       "    </tr>\n",
       "  </thead>\n",
       "  <tbody>\n",
       "    <tr>\n",
       "      <th>5</th>\n",
       "      <td>Permission::WAKE_LOCK</td>\n",
       "    </tr>\n",
       "    <tr>\n",
       "      <th>6</th>\n",
       "      <td>Permission::WRITE_EXTERNAL_STORAGE</td>\n",
       "    </tr>\n",
       "    <tr>\n",
       "      <th>7</th>\n",
       "      <td>Permission::ACCESS_NETWORK_STATE</td>\n",
       "    </tr>\n",
       "    <tr>\n",
       "      <th>8</th>\n",
       "      <td>Permission::WRITE_SETTINGS</td>\n",
       "    </tr>\n",
       "    <tr>\n",
       "      <th>9</th>\n",
       "      <td>Permission::INTERNET</td>\n",
       "    </tr>\n",
       "    <tr>\n",
       "      <th>...</th>\n",
       "      <td>...</td>\n",
       "    </tr>\n",
       "    <tr>\n",
       "      <th>24837</th>\n",
       "      <td>APICall::Landroid/widget/TableRow.getLeft()</td>\n",
       "    </tr>\n",
       "    <tr>\n",
       "      <th>24838</th>\n",
       "      <td>APICall::Landroid/widget/HorizontalScrollView....</td>\n",
       "    </tr>\n",
       "    <tr>\n",
       "      <th>24839</th>\n",
       "      <td>APICall::Landroid/widget/RatingBar.isFocusable()</td>\n",
       "    </tr>\n",
       "    <tr>\n",
       "      <th>24840</th>\n",
       "      <td>APICall::Landroid/preference/ListPreference.ge...</td>\n",
       "    </tr>\n",
       "    <tr>\n",
       "      <th>24841</th>\n",
       "      <td>APICall::Landroid/widget/LinearLayout.computeH...</td>\n",
       "    </tr>\n",
       "  </tbody>\n",
       "</table>\n",
       "<p>24833 rows × 1 columns</p>\n",
       "</div>"
      ],
      "text/plain": [
       "                                                features\n",
       "index                                                   \n",
       "5                                  Permission::WAKE_LOCK\n",
       "6                     Permission::WRITE_EXTERNAL_STORAGE\n",
       "7                       Permission::ACCESS_NETWORK_STATE\n",
       "8                             Permission::WRITE_SETTINGS\n",
       "9                                   Permission::INTERNET\n",
       "...                                                  ...\n",
       "24837        APICall::Landroid/widget/TableRow.getLeft()\n",
       "24838  APICall::Landroid/widget/HorizontalScrollView....\n",
       "24839   APICall::Landroid/widget/RatingBar.isFocusable()\n",
       "24840  APICall::Landroid/preference/ListPreference.ge...\n",
       "24841  APICall::Landroid/widget/LinearLayout.computeH...\n",
       "\n",
       "[24833 rows x 1 columns]"
      ]
     },
     "execution_count": 77,
     "metadata": {},
     "output_type": "execute_result"
    }
   ],
   "source": [
    "feature_names"
   ]
  },
  {
   "cell_type": "code",
   "execution_count": 30,
   "id": "9d578aa9-553d-4981-b0a9-d1929105d4cc",
   "metadata": {},
   "outputs": [
    {
     "data": {
      "text/html": [
       "<div>\n",
       "<style scoped>\n",
       "    .dataframe tbody tr th:only-of-type {\n",
       "        vertical-align: middle;\n",
       "    }\n",
       "\n",
       "    .dataframe tbody tr th {\n",
       "        vertical-align: top;\n",
       "    }\n",
       "\n",
       "    .dataframe thead th {\n",
       "        text-align: right;\n",
       "    }\n",
       "</style>\n",
       "<table border=\"1\" class=\"dataframe\">\n",
       "  <thead>\n",
       "    <tr style=\"text-align: right;\">\n",
       "      <th></th>\n",
       "      <th>1-class</th>\n",
       "      <th>2-class</th>\n",
       "      <th>3-class</th>\n",
       "      <th>4-class</th>\n",
       "      <th>5-class</th>\n",
       "      <th>6-class</th>\n",
       "      <th>7-class</th>\n",
       "      <th>8-class</th>\n",
       "      <th>9-class</th>\n",
       "      <th>10-class</th>\n",
       "      <th>...</th>\n",
       "      <th>31-class</th>\n",
       "      <th>32-class</th>\n",
       "      <th>33-class</th>\n",
       "      <th>34-class</th>\n",
       "      <th>37-class</th>\n",
       "      <th>38-class</th>\n",
       "      <th>39-class</th>\n",
       "      <th>41-class</th>\n",
       "      <th>43-class</th>\n",
       "      <th>46-class</th>\n",
       "    </tr>\n",
       "  </thead>\n",
       "  <tbody>\n",
       "    <tr>\n",
       "      <th>0</th>\n",
       "      <td>0</td>\n",
       "      <td>0</td>\n",
       "      <td>0</td>\n",
       "      <td>0</td>\n",
       "      <td>0</td>\n",
       "      <td>0</td>\n",
       "      <td>0</td>\n",
       "      <td>0</td>\n",
       "      <td>0</td>\n",
       "      <td>0</td>\n",
       "      <td>...</td>\n",
       "      <td>0</td>\n",
       "      <td>0</td>\n",
       "      <td>0</td>\n",
       "      <td>0</td>\n",
       "      <td>0</td>\n",
       "      <td>0</td>\n",
       "      <td>0</td>\n",
       "      <td>0</td>\n",
       "      <td>0</td>\n",
       "      <td>0</td>\n",
       "    </tr>\n",
       "    <tr>\n",
       "      <th>1</th>\n",
       "      <td>0</td>\n",
       "      <td>0</td>\n",
       "      <td>0</td>\n",
       "      <td>0</td>\n",
       "      <td>0</td>\n",
       "      <td>0</td>\n",
       "      <td>0</td>\n",
       "      <td>0</td>\n",
       "      <td>0</td>\n",
       "      <td>0</td>\n",
       "      <td>...</td>\n",
       "      <td>0</td>\n",
       "      <td>0</td>\n",
       "      <td>0</td>\n",
       "      <td>0</td>\n",
       "      <td>0</td>\n",
       "      <td>0</td>\n",
       "      <td>0</td>\n",
       "      <td>0</td>\n",
       "      <td>0</td>\n",
       "      <td>0</td>\n",
       "    </tr>\n",
       "    <tr>\n",
       "      <th>2</th>\n",
       "      <td>0</td>\n",
       "      <td>0</td>\n",
       "      <td>0</td>\n",
       "      <td>0</td>\n",
       "      <td>0</td>\n",
       "      <td>0</td>\n",
       "      <td>0</td>\n",
       "      <td>0</td>\n",
       "      <td>0</td>\n",
       "      <td>0</td>\n",
       "      <td>...</td>\n",
       "      <td>0</td>\n",
       "      <td>0</td>\n",
       "      <td>0</td>\n",
       "      <td>0</td>\n",
       "      <td>0</td>\n",
       "      <td>0</td>\n",
       "      <td>0</td>\n",
       "      <td>0</td>\n",
       "      <td>0</td>\n",
       "      <td>0</td>\n",
       "    </tr>\n",
       "    <tr>\n",
       "      <th>3</th>\n",
       "      <td>1</td>\n",
       "      <td>1</td>\n",
       "      <td>1</td>\n",
       "      <td>1</td>\n",
       "      <td>1</td>\n",
       "      <td>0</td>\n",
       "      <td>0</td>\n",
       "      <td>0</td>\n",
       "      <td>0</td>\n",
       "      <td>0</td>\n",
       "      <td>...</td>\n",
       "      <td>0</td>\n",
       "      <td>0</td>\n",
       "      <td>0</td>\n",
       "      <td>0</td>\n",
       "      <td>0</td>\n",
       "      <td>0</td>\n",
       "      <td>0</td>\n",
       "      <td>0</td>\n",
       "      <td>0</td>\n",
       "      <td>0</td>\n",
       "    </tr>\n",
       "    <tr>\n",
       "      <th>4</th>\n",
       "      <td>1</td>\n",
       "      <td>1</td>\n",
       "      <td>0</td>\n",
       "      <td>0</td>\n",
       "      <td>0</td>\n",
       "      <td>0</td>\n",
       "      <td>0</td>\n",
       "      <td>0</td>\n",
       "      <td>0</td>\n",
       "      <td>0</td>\n",
       "      <td>...</td>\n",
       "      <td>0</td>\n",
       "      <td>0</td>\n",
       "      <td>0</td>\n",
       "      <td>0</td>\n",
       "      <td>0</td>\n",
       "      <td>0</td>\n",
       "      <td>0</td>\n",
       "      <td>0</td>\n",
       "      <td>0</td>\n",
       "      <td>0</td>\n",
       "    </tr>\n",
       "    <tr>\n",
       "      <th>...</th>\n",
       "      <td>...</td>\n",
       "      <td>...</td>\n",
       "      <td>...</td>\n",
       "      <td>...</td>\n",
       "      <td>...</td>\n",
       "      <td>...</td>\n",
       "      <td>...</td>\n",
       "      <td>...</td>\n",
       "      <td>...</td>\n",
       "      <td>...</td>\n",
       "      <td>...</td>\n",
       "      <td>...</td>\n",
       "      <td>...</td>\n",
       "      <td>...</td>\n",
       "      <td>...</td>\n",
       "      <td>...</td>\n",
       "      <td>...</td>\n",
       "      <td>...</td>\n",
       "      <td>...</td>\n",
       "      <td>...</td>\n",
       "      <td>...</td>\n",
       "    </tr>\n",
       "    <tr>\n",
       "      <th>101929</th>\n",
       "      <td>1</td>\n",
       "      <td>1</td>\n",
       "      <td>1</td>\n",
       "      <td>1</td>\n",
       "      <td>1</td>\n",
       "      <td>1</td>\n",
       "      <td>0</td>\n",
       "      <td>0</td>\n",
       "      <td>0</td>\n",
       "      <td>0</td>\n",
       "      <td>...</td>\n",
       "      <td>0</td>\n",
       "      <td>0</td>\n",
       "      <td>0</td>\n",
       "      <td>0</td>\n",
       "      <td>0</td>\n",
       "      <td>0</td>\n",
       "      <td>0</td>\n",
       "      <td>0</td>\n",
       "      <td>0</td>\n",
       "      <td>0</td>\n",
       "    </tr>\n",
       "    <tr>\n",
       "      <th>101930</th>\n",
       "      <td>0</td>\n",
       "      <td>0</td>\n",
       "      <td>0</td>\n",
       "      <td>0</td>\n",
       "      <td>0</td>\n",
       "      <td>0</td>\n",
       "      <td>0</td>\n",
       "      <td>0</td>\n",
       "      <td>0</td>\n",
       "      <td>0</td>\n",
       "      <td>...</td>\n",
       "      <td>0</td>\n",
       "      <td>0</td>\n",
       "      <td>0</td>\n",
       "      <td>0</td>\n",
       "      <td>0</td>\n",
       "      <td>0</td>\n",
       "      <td>0</td>\n",
       "      <td>0</td>\n",
       "      <td>0</td>\n",
       "      <td>0</td>\n",
       "    </tr>\n",
       "    <tr>\n",
       "      <th>101931</th>\n",
       "      <td>0</td>\n",
       "      <td>0</td>\n",
       "      <td>0</td>\n",
       "      <td>0</td>\n",
       "      <td>0</td>\n",
       "      <td>0</td>\n",
       "      <td>0</td>\n",
       "      <td>0</td>\n",
       "      <td>0</td>\n",
       "      <td>0</td>\n",
       "      <td>...</td>\n",
       "      <td>0</td>\n",
       "      <td>0</td>\n",
       "      <td>0</td>\n",
       "      <td>0</td>\n",
       "      <td>0</td>\n",
       "      <td>0</td>\n",
       "      <td>0</td>\n",
       "      <td>0</td>\n",
       "      <td>0</td>\n",
       "      <td>0</td>\n",
       "    </tr>\n",
       "    <tr>\n",
       "      <th>101932</th>\n",
       "      <td>0</td>\n",
       "      <td>0</td>\n",
       "      <td>0</td>\n",
       "      <td>0</td>\n",
       "      <td>0</td>\n",
       "      <td>0</td>\n",
       "      <td>0</td>\n",
       "      <td>0</td>\n",
       "      <td>0</td>\n",
       "      <td>0</td>\n",
       "      <td>...</td>\n",
       "      <td>0</td>\n",
       "      <td>0</td>\n",
       "      <td>0</td>\n",
       "      <td>0</td>\n",
       "      <td>0</td>\n",
       "      <td>0</td>\n",
       "      <td>0</td>\n",
       "      <td>0</td>\n",
       "      <td>0</td>\n",
       "      <td>0</td>\n",
       "    </tr>\n",
       "    <tr>\n",
       "      <th>101933</th>\n",
       "      <td>0</td>\n",
       "      <td>0</td>\n",
       "      <td>0</td>\n",
       "      <td>0</td>\n",
       "      <td>0</td>\n",
       "      <td>0</td>\n",
       "      <td>0</td>\n",
       "      <td>0</td>\n",
       "      <td>0</td>\n",
       "      <td>0</td>\n",
       "      <td>...</td>\n",
       "      <td>0</td>\n",
       "      <td>0</td>\n",
       "      <td>0</td>\n",
       "      <td>0</td>\n",
       "      <td>0</td>\n",
       "      <td>0</td>\n",
       "      <td>0</td>\n",
       "      <td>0</td>\n",
       "      <td>0</td>\n",
       "      <td>0</td>\n",
       "    </tr>\n",
       "  </tbody>\n",
       "</table>\n",
       "<p>101934 rows × 40 columns</p>\n",
       "</div>"
      ],
      "text/plain": [
       "        1-class  2-class  3-class  4-class  5-class  6-class  7-class  \\\n",
       "0             0        0        0        0        0        0        0   \n",
       "1             0        0        0        0        0        0        0   \n",
       "2             0        0        0        0        0        0        0   \n",
       "3             1        1        1        1        1        0        0   \n",
       "4             1        1        0        0        0        0        0   \n",
       "...         ...      ...      ...      ...      ...      ...      ...   \n",
       "101929        1        1        1        1        1        1        0   \n",
       "101930        0        0        0        0        0        0        0   \n",
       "101931        0        0        0        0        0        0        0   \n",
       "101932        0        0        0        0        0        0        0   \n",
       "101933        0        0        0        0        0        0        0   \n",
       "\n",
       "        8-class  9-class  10-class  ...  31-class  32-class  33-class  \\\n",
       "0             0        0         0  ...         0         0         0   \n",
       "1             0        0         0  ...         0         0         0   \n",
       "2             0        0         0  ...         0         0         0   \n",
       "3             0        0         0  ...         0         0         0   \n",
       "4             0        0         0  ...         0         0         0   \n",
       "...         ...      ...       ...  ...       ...       ...       ...   \n",
       "101929        0        0         0  ...         0         0         0   \n",
       "101930        0        0         0  ...         0         0         0   \n",
       "101931        0        0         0  ...         0         0         0   \n",
       "101932        0        0         0  ...         0         0         0   \n",
       "101933        0        0         0  ...         0         0         0   \n",
       "\n",
       "        34-class  37-class  38-class  39-class  41-class  43-class  46-class  \n",
       "0              0         0         0         0         0         0         0  \n",
       "1              0         0         0         0         0         0         0  \n",
       "2              0         0         0         0         0         0         0  \n",
       "3              0         0         0         0         0         0         0  \n",
       "4              0         0         0         0         0         0         0  \n",
       "...          ...       ...       ...       ...       ...       ...       ...  \n",
       "101929         0         0         0         0         0         0         0  \n",
       "101930         0         0         0         0         0         0         0  \n",
       "101931         0         0         0         0         0         0         0  \n",
       "101932         0         0         0         0         0         0         0  \n",
       "101933         0         0         0         0         0         0         0  \n",
       "\n",
       "[101934 rows x 40 columns]"
      ]
     },
     "execution_count": 30,
     "metadata": {},
     "output_type": "execute_result"
    }
   ],
   "source": [
    "vt_labels = pd.read_csv(join(paths['processed'],'mh100_vt-labels.csv'))\n",
    "vt_labels.drop(columns=['index'], inplace=True)\n",
    "vt_labels"
   ]
  },
  {
   "cell_type": "code",
   "execution_count": 31,
   "id": "47d53514-703e-4e87-a3e9-9d31940743c7",
   "metadata": {},
   "outputs": [
    {
     "data": {
      "text/plain": [
       "4-class\n",
       "0    92134\n",
       "1     9800\n",
       "Name: count, dtype: int64"
      ]
     },
     "execution_count": 31,
     "metadata": {},
     "output_type": "execute_result"
    }
   ],
   "source": [
    "vt_labels['4-class'].value_counts()"
   ]
  },
  {
   "cell_type": "markdown",
   "id": "31e4dcd8-e74f-43bf-910b-b3caf08d41de",
   "metadata": {},
   "source": [
    "## Train test split"
   ]
  },
  {
   "cell_type": "code",
   "execution_count": 39,
   "id": "c1dc7449-0b79-4d09-823b-86cf5c04f94c",
   "metadata": {},
   "outputs": [],
   "source": [
    "from sklearn.model_selection import train_test_split\n",
    "from sklearn.preprocessing import OneHotEncoder"
   ]
  },
  {
   "cell_type": "code",
   "execution_count": 40,
   "id": "0d43055c-bd0f-439c-ac94-f7300f04bc10",
   "metadata": {},
   "outputs": [
    {
     "name": "stdout",
     "output_type": "stream",
     "text": [
      "81547 20387\n",
      "(81547, 24833, 1) (20387, 24833, 1)\n",
      "(81547,) (20387,)\n"
     ]
    }
   ],
   "source": [
    "## Train test split\n",
    "\n",
    "id_train, id_val = train_test_split(range(0, data.shape[0]), test_size=0.2, random_state=0, shuffle=True)\n",
    "print(len(id_train), len(id_val))\n",
    "\n",
    "X_train = np.expand_dims(data[id_train], 2)\n",
    "X_val = np.expand_dims(data[id_val], 2)\n",
    "y_train = vt_labels.iloc[id_train]['4-class']\n",
    "y_val = vt_labels.iloc[id_val]['4-class']\n",
    "\n",
    "print(X_train.shape, X_val.shape)\n",
    "print(y_train.shape, y_val.shape)"
   ]
  },
  {
   "cell_type": "code",
   "execution_count": 41,
   "id": "da67f57b-90f5-4cd5-a5cf-b07750dd9bf2",
   "metadata": {},
   "outputs": [
    {
     "name": "stdout",
     "output_type": "stream",
     "text": [
      "(81547, 24833, 1) (20387, 24833, 1) (81547,) (20387,)\n",
      "4-class\n",
      "0          73752\n",
      "1           7795\n",
      "Name: count, dtype: int64 4-class\n",
      "0          18382\n",
      "1           2005\n",
      "Name: count, dtype: int64\n"
     ]
    }
   ],
   "source": [
    "# ## Split dataset\n",
    "#X_train, X_val, y_train, y_val = train_test_split(data, labels, test_size=0.2, random_state=0, shuffle=True)\n",
    "print(X_train.shape, X_val.shape, y_train.shape, y_val.shape)\n",
    "encoder = OneHotEncoder(dtype=int)\n",
    "encoder.fit(np.expand_dims(y_train.values, axis=1))\n",
    "y_train_ohe = encoder.transform(np.expand_dims(y_train.values, axis=1))\n",
    "y_val_ohe = encoder.transform(np.expand_dims(y_val.values, axis=1))\n",
    "\n",
    "print(dataframe(y_train).value_counts(), dataframe(y_val).value_counts())"
   ]
  },
  {
   "cell_type": "markdown",
   "id": "2c08650d-18a8-42e9-a4de-15630a077237",
   "metadata": {
    "tags": []
   },
   "source": [
    "# Train a model"
   ]
  },
  {
   "cell_type": "code",
   "execution_count": null,
   "id": "c36f4165-9e9b-42a7-bb39-c4e65d1189f7",
   "metadata": {},
   "outputs": [],
   "source": [
    "from sklearn.ensemble import RandomForestClassifier\n",
    "from sklearn import metrics\n",
    "from sklearn.metrics import confusion_matrix, classification_report\n",
    "from sklearn.inspection import permutation_importance"
   ]
  },
  {
   "cell_type": "code",
   "execution_count": 57,
   "id": "65ebb4bd-5f74-483f-a36a-3f8b386e4af8",
   "metadata": {},
   "outputs": [],
   "source": [
    "def plot_cm(cm, figsize=(4, 3)):\n",
    "    fig= plt.figure(figsize=figsize)\n",
    "    sns.heatmap(cm, annot=True, cmap='Blues', linewidth=.5, fmt=\".1f\")\n",
    "    return"
   ]
  },
  {
   "cell_type": "code",
   "execution_count": 45,
   "id": "9c8d45a7-99d2-47dc-8002-5025fa9447e4",
   "metadata": {},
   "outputs": [
    {
     "data": {
      "text/html": [
       "<style>#sk-container-id-1 {color: black;}#sk-container-id-1 pre{padding: 0;}#sk-container-id-1 div.sk-toggleable {background-color: white;}#sk-container-id-1 label.sk-toggleable__label {cursor: pointer;display: block;width: 100%;margin-bottom: 0;padding: 0.3em;box-sizing: border-box;text-align: center;}#sk-container-id-1 label.sk-toggleable__label-arrow:before {content: \"▸\";float: left;margin-right: 0.25em;color: #696969;}#sk-container-id-1 label.sk-toggleable__label-arrow:hover:before {color: black;}#sk-container-id-1 div.sk-estimator:hover label.sk-toggleable__label-arrow:before {color: black;}#sk-container-id-1 div.sk-toggleable__content {max-height: 0;max-width: 0;overflow: hidden;text-align: left;background-color: #f0f8ff;}#sk-container-id-1 div.sk-toggleable__content pre {margin: 0.2em;color: black;border-radius: 0.25em;background-color: #f0f8ff;}#sk-container-id-1 input.sk-toggleable__control:checked~div.sk-toggleable__content {max-height: 200px;max-width: 100%;overflow: auto;}#sk-container-id-1 input.sk-toggleable__control:checked~label.sk-toggleable__label-arrow:before {content: \"▾\";}#sk-container-id-1 div.sk-estimator input.sk-toggleable__control:checked~label.sk-toggleable__label {background-color: #d4ebff;}#sk-container-id-1 div.sk-label input.sk-toggleable__control:checked~label.sk-toggleable__label {background-color: #d4ebff;}#sk-container-id-1 input.sk-hidden--visually {border: 0;clip: rect(1px 1px 1px 1px);clip: rect(1px, 1px, 1px, 1px);height: 1px;margin: -1px;overflow: hidden;padding: 0;position: absolute;width: 1px;}#sk-container-id-1 div.sk-estimator {font-family: monospace;background-color: #f0f8ff;border: 1px dotted black;border-radius: 0.25em;box-sizing: border-box;margin-bottom: 0.5em;}#sk-container-id-1 div.sk-estimator:hover {background-color: #d4ebff;}#sk-container-id-1 div.sk-parallel-item::after {content: \"\";width: 100%;border-bottom: 1px solid gray;flex-grow: 1;}#sk-container-id-1 div.sk-label:hover label.sk-toggleable__label {background-color: #d4ebff;}#sk-container-id-1 div.sk-serial::before {content: \"\";position: absolute;border-left: 1px solid gray;box-sizing: border-box;top: 0;bottom: 0;left: 50%;z-index: 0;}#sk-container-id-1 div.sk-serial {display: flex;flex-direction: column;align-items: center;background-color: white;padding-right: 0.2em;padding-left: 0.2em;position: relative;}#sk-container-id-1 div.sk-item {position: relative;z-index: 1;}#sk-container-id-1 div.sk-parallel {display: flex;align-items: stretch;justify-content: center;background-color: white;position: relative;}#sk-container-id-1 div.sk-item::before, #sk-container-id-1 div.sk-parallel-item::before {content: \"\";position: absolute;border-left: 1px solid gray;box-sizing: border-box;top: 0;bottom: 0;left: 50%;z-index: -1;}#sk-container-id-1 div.sk-parallel-item {display: flex;flex-direction: column;z-index: 1;position: relative;background-color: white;}#sk-container-id-1 div.sk-parallel-item:first-child::after {align-self: flex-end;width: 50%;}#sk-container-id-1 div.sk-parallel-item:last-child::after {align-self: flex-start;width: 50%;}#sk-container-id-1 div.sk-parallel-item:only-child::after {width: 0;}#sk-container-id-1 div.sk-dashed-wrapped {border: 1px dashed gray;margin: 0 0.4em 0.5em 0.4em;box-sizing: border-box;padding-bottom: 0.4em;background-color: white;}#sk-container-id-1 div.sk-label label {font-family: monospace;font-weight: bold;display: inline-block;line-height: 1.2em;}#sk-container-id-1 div.sk-label-container {text-align: center;}#sk-container-id-1 div.sk-container {/* jupyter's `normalize.less` sets `[hidden] { display: none; }` but bootstrap.min.css set `[hidden] { display: none !important; }` so we also need the `!important` here to be able to override the default hidden behavior on the sphinx rendered scikit-learn.org. See: https://github.com/scikit-learn/scikit-learn/issues/21755 */display: inline-block !important;position: relative;}#sk-container-id-1 div.sk-text-repr-fallback {display: none;}</style><div id=\"sk-container-id-1\" class=\"sk-top-container\"><div class=\"sk-text-repr-fallback\"><pre>RandomForestClassifier()</pre><b>In a Jupyter environment, please rerun this cell to show the HTML representation or trust the notebook. <br />On GitHub, the HTML representation is unable to render, please try loading this page with nbviewer.org.</b></div><div class=\"sk-container\" hidden><div class=\"sk-item\"><div class=\"sk-estimator sk-toggleable\"><input class=\"sk-toggleable__control sk-hidden--visually\" id=\"sk-estimator-id-1\" type=\"checkbox\" checked><label for=\"sk-estimator-id-1\" class=\"sk-toggleable__label sk-toggleable__label-arrow\">RandomForestClassifier</label><div class=\"sk-toggleable__content\"><pre>RandomForestClassifier()</pre></div></div></div></div></div>"
      ],
      "text/plain": [
       "RandomForestClassifier()"
      ]
     },
     "execution_count": 45,
     "metadata": {},
     "output_type": "execute_result"
    }
   ],
   "source": [
    "# For RandomForest\n",
    "\n",
    "model = RandomForestClassifier()\n",
    "model.fit(X_train.squeeze(), y_train)   # High Resource Usage for mh100 dataset. Try to use a sampling to less resource"
   ]
  },
  {
   "cell_type": "code",
   "execution_count": 47,
   "id": "67ba2608-f0fd-457c-9593-e10ecaecb45c",
   "metadata": {},
   "outputs": [],
   "source": [
    "import pickle\n",
    "\n",
    "# save model\n",
    "# with open(os.path.join(paths['models'], 'rf-model-mh100.pkl'),'wb') as f:\n",
    "#     pickle.dump(model, f)"
   ]
  },
  {
   "cell_type": "code",
   "execution_count": 49,
   "id": "a3e8c6ec-c021-42fe-878e-253ab2f6caf3",
   "metadata": {},
   "outputs": [],
   "source": [
    "y_pred=model.predict(X_val.squeeze())"
   ]
  },
  {
   "cell_type": "code",
   "execution_count": 52,
   "id": "78792632-aaac-4843-814d-2285c1802dfb",
   "metadata": {},
   "outputs": [
    {
     "data": {
      "text/plain": [
       "0.9757688723205965"
      ]
     },
     "execution_count": 52,
     "metadata": {},
     "output_type": "execute_result"
    }
   ],
   "source": [
    "acc = metrics.accuracy_score(y_val, y_pred)\n",
    "acc"
   ]
  },
  {
   "cell_type": "code",
   "execution_count": 90,
   "id": "3f68e047-ea7e-49c2-b613-123cc71ecf20",
   "metadata": {},
   "outputs": [
    {
     "data": {
      "image/png": "[encoded data removed]",
      "text/plain": [
       "<Figure size 400x300 with 2 Axes>"
      ]
     },
     "metadata": {},
     "output_type": "display_data"
    }
   ],
   "source": [
    "cm = confusion_matrix(y_val, y_pred)\n",
    "# \n",
    "# plot_cm(cm, figsize=(4, 3))\n",
    "\n",
    "figure = plt.figure(figsize=(4, 3))\n",
    "sns.heatmap(cm, annot=True, cmap=plt.cm.Blues, fmt='g')\n",
    "plt.tight_layout()\n",
    "plt.ylabel('True label')\n",
    "plt.xlabel('Predicted label')\n",
    "plt.title('Confusion Matrix for MH100')\n",
    "plt.xticks(ticks=[.5, 1.5], labels = classes_names)\n",
    "plt.yticks(ticks=[.5, 1.5], labels = classes_names)\n",
    "plt.tight_layout()\n",
    "# plt.savefig(join(paths['models'], name__+'_cm.png'), format='png')"
   ]
  },
  {
   "cell_type": "code",
   "execution_count": 66,
   "id": "bf680261-a77a-44c9-8228-a72a457650c0",
   "metadata": {},
   "outputs": [
    {
     "data": {
      "text/plain": [
       "{'benign': {'precision': 0.9877303958992256,\n",
       "  'recall': 0.9853661190294853,\n",
       "  'f1-score': 0.9865468409586057,\n",
       "  'support': 18382.0},\n",
       " 'malware': {'precision': 0.8687164470473402,\n",
       "  'recall': 0.8877805486284289,\n",
       "  'f1-score': 0.8781450419338924,\n",
       "  'support': 2005.0},\n",
       " 'accuracy': 0.9757688723205965,\n",
       " 'macro avg': {'precision': 0.928223421473283,\n",
       "  'recall': 0.9365733338289571,\n",
       "  'f1-score': 0.932345941446249,\n",
       "  'support': 20387.0},\n",
       " 'weighted avg': {'precision': 0.9760257327585953,\n",
       "  'recall': 0.9757688723205965,\n",
       "  'f1-score': 0.9758858507665935,\n",
       "  'support': 20387.0}}"
      ]
     },
     "execution_count": 66,
     "metadata": {},
     "output_type": "execute_result"
    }
   ],
   "source": [
    "classification_report(y_true=y_val, y_pred=y_pred, target_names=classes_names, output_dict=True)\n"
   ]
  },
  {
   "cell_type": "code",
   "execution_count": 67,
   "id": "99ace8f1-67bb-49be-80c9-580c677e41d3",
   "metadata": {},
   "outputs": [],
   "source": [
    "def plot_importance(model, threshold=0.01, feature_names=[], figsize=(4, 3)):\n",
    "    fig= plt.figure(figsize=figsize)\n",
    "    indices = np.argsort(model.feature_importances_)\n",
    "    importance = dataframe({'features':feature_names[indices], 'values': model.feature_importances_[indices]})\n",
    "    importance = importance[::-1].reset_index(drop=True)\n",
    "    sns.barplot(data=importance[importance['values']>threshold],\n",
    "           y='features', x='values',\n",
    "           orient= 'h')\n",
    "\n",
    "    plt.xlabel('Feature Importance Score')\n",
    "    plt.ylabel('Features')\n",
    "    plt.title(\"Visualizing importance scores\")\n",
    "    plt.yticks(fontsize=6)\n",
    "    # plt.legend(xg_model.classes_)\n",
    "    plt.show()\n",
    "    return importance"
   ]
  },
  {
   "cell_type": "code",
   "execution_count": 86,
   "id": "9081544e-7307-4544-bcd4-f1999a570755",
   "metadata": {},
   "outputs": [
    {
     "data": {
      "image/png": "[encoded data removed]",
      "text/plain": [
       "<Figure size 600x400 with 1 Axes>"
      ]
     },
     "metadata": {},
     "output_type": "display_data"
    }
   ],
   "source": [
    "importance = plot_importance(model, threshold=0.005, feature_names=feature_names.features.values, figsize=(6, 4))"
   ]
  },
  {
   "cell_type": "code",
   "execution_count": 92,
   "id": "bf373ec5-9f10-435a-894b-b4651f17106f",
   "metadata": {},
   "outputs": [
    {
     "name": "stdout",
     "output_type": "stream",
     "text": [
      "              precision    recall  f1-score   support\n",
      "\n",
      "      benign       0.99      0.99      0.99     18382\n",
      "     malware       0.87      0.89      0.88      2005\n",
      "\n",
      "    accuracy                           0.98     20387\n",
      "   macro avg       0.93      0.94      0.93     20387\n",
      "weighted avg       0.98      0.98      0.98     20387\n",
      "\n"
     ]
    }
   ],
   "source": [
    "report = classification_report(y_true=y_val, y_pred=y_pred, target_names=classes_names)\n",
    "print(report)"
   ]
  },
  {
   "cell_type": "code",
   "execution_count": null,
   "id": "e4fff3a3-c3c0-4285-823d-e15b9a2312f7",
   "metadata": {},
   "outputs": [],
   "source": [
    "# with open(join(paths['models'], name__+'_report.json'), 'w') as outfile:\n",
    "#     outfile.write(report)"
   ]
  }
 ],
 "metadata": {
  "kernelspec": {
   "display_name": "Python 3 (ipykernel)",
   "language": "python",
   "name": "python3"
  },
  "language_info": {
   "codemirror_mode": {
    "name": "ipython",
    "version": 3
   },
   "file_extension": ".py",
   "mimetype": "text/x-python",
   "name": "python",
   "nbconvert_exporter": "python",
   "pygments_lexer": "ipython3",
   "version": "3.12.0"
  }
 },
 "nbformat": 4,
 "nbformat_minor": 5
}
