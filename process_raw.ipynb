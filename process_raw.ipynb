{
 "cells": [
  {
   "cell_type": "markdown",
   "id": "5d792e55-2b54-4f38-bf97-dc65732a4952",
   "metadata": {
    "tags": []
   },
   "source": [
    "# Imports"
   ]
  },
  {
   "cell_type": "code",
   "execution_count": 2,
   "id": "e48d2631-9547-4244-82bd-b0be8fd68fad",
   "metadata": {},
   "outputs": [],
   "source": [
    "import numpy as np\n",
    "import pandas as pd\n",
    "from pandas import DataFrame as dataframe\n",
    "import matplotlib.pyplot as plt\n",
    "# import seaborn as sns\n",
    "import os\n",
    "from os.path import join\n",
    "# from tqdm import tqdm\n"
   ]
  },
  {
   "cell_type": "code",
   "execution_count": 3,
   "id": "d791898b-2548-40ef-a5d8-7a94a94e7296",
   "metadata": {},
   "outputs": [
    {
     "name": "stdout",
     "output_type": "stream",
     "text": [
      "D:\\mh100\\MH-100K-dataset\n"
     ]
    }
   ],
   "source": [
    "print(os.getcwd())\n",
    "\n",
    "base_dir = os.getcwd()\n",
    "paths={\n",
    "    'raw': join(base_dir, 'data'),\n",
    "    'processed': join(base_dir, 'processed'),\n",
    "}"
   ]
  },
  {
   "cell_type": "code",
   "execution_count": 4,
   "id": "0eb3d32b-5169-431f-9d7e-4df685c34ec9",
   "metadata": {},
   "outputs": [
    {
     "data": {
      "text/plain": [
       "['motodroid-v2-features-all.csv',\n",
       " 'motodroid-v2-features-classes.csv',\n",
       " 'motodroid-v2-vt_labels.csv',\n",
       " 'motodroid-v2.npy',\n",
       " 'motodroid-v2_labels.csv']"
      ]
     },
     "execution_count": 4,
     "metadata": {},
     "output_type": "execute_result"
    }
   ],
   "source": [
    "os.listdir(paths['processed'])"
   ]
  },
  {
   "cell_type": "code",
   "execution_count": 5,
   "id": "ce88b695-2dc8-429d-ad29-9aa155a427aa",
   "metadata": {},
   "outputs": [
    {
     "data": {
      "text/html": [
       "<div>\n",
       "<style scoped>\n",
       "    .dataframe tbody tr th:only-of-type {\n",
       "        vertical-align: middle;\n",
       "    }\n",
       "\n",
       "    .dataframe tbody tr th {\n",
       "        vertical-align: top;\n",
       "    }\n",
       "\n",
       "    .dataframe thead th {\n",
       "        text-align: right;\n",
       "    }\n",
       "</style>\n",
       "<table border=\"1\" class=\"dataframe\">\n",
       "  <thead>\n",
       "    <tr style=\"text-align: right;\">\n",
       "      <th></th>\n",
       "      <th>filename</th>\n",
       "    </tr>\n",
       "  </thead>\n",
       "  <tbody>\n",
       "    <tr>\n",
       "      <th>0</th>\n",
       "      <td>motodroid-v2-features-all.csv</td>\n",
       "    </tr>\n",
       "    <tr>\n",
       "      <th>1</th>\n",
       "      <td>motodroid-v2-features-classes.csv</td>\n",
       "    </tr>\n",
       "    <tr>\n",
       "      <th>2</th>\n",
       "      <td>motodroid-v2-vt_labels.csv</td>\n",
       "    </tr>\n",
       "    <tr>\n",
       "      <th>3</th>\n",
       "      <td>motodroid-v2.npy</td>\n",
       "    </tr>\n",
       "    <tr>\n",
       "      <th>4</th>\n",
       "      <td>motodroid-v2_labels.csv</td>\n",
       "    </tr>\n",
       "  </tbody>\n",
       "</table>\n",
       "</div>"
      ],
      "text/plain": [
       "                            filename\n",
       "0      motodroid-v2-features-all.csv\n",
       "1  motodroid-v2-features-classes.csv\n",
       "2         motodroid-v2-vt_labels.csv\n",
       "3                   motodroid-v2.npy\n",
       "4            motodroid-v2_labels.csv"
      ]
     },
     "execution_count": 5,
     "metadata": {},
     "output_type": "execute_result"
    }
   ],
   "source": [
    "files = dataframe(os.listdir(paths['processed']), columns=['filename'])\n",
    "files"
   ]
  },
  {
   "cell_type": "markdown",
   "id": "942ce70e-fd1d-4f4a-91d5-7d0c8e35f5cc",
   "metadata": {
    "tags": []
   },
   "source": [
    "# MH100 dataset\n",
    "\n",
    "* API Call:  features\n",
    "* Permission:  features\n",
    "* Intent:  features\n",
    "\n",
    "* Labels: (CLASS, vt_detection)\n"
   ]
  },
  {
   "cell_type": "code",
   "execution_count": null,
   "id": "7829159f-1b73-4098-8518-9cb1a4575f22",
   "metadata": {},
   "outputs": [],
   "source": [
    "import tensorflow as tf"
   ]
  },
  {
   "cell_type": "code",
   "execution_count": null,
   "id": "0d0172c5-dc32-4bf3-9d19-4801b829309c",
   "metadata": {},
   "outputs": [],
   "source": [
    "print(base_dir)\n",
    "\n",
    "print(os.listdir(base_dir))\n",
    "path_dataset = join(base_dir, 'datasets1', 'motodroid-v2')\n",
    "\n",
    "os.listdir(path_dataset)"
   ]
  },
  {
   "cell_type": "code",
   "execution_count": null,
   "id": "e1e7a3ec-3eb1-4890-a0b7-7d430300a1ea",
   "metadata": {},
   "outputs": [],
   "source": [
    "feat_path = join(path_dataset, 'motodroid-v2-features-all.csv')\n",
    "feat_path"
   ]
  },
  {
   "cell_type": "code",
   "execution_count": null,
   "id": "7d02e48a-d03f-48a2-af93-f9e7101b2caa",
   "metadata": {},
   "outputs": [],
   "source": [
    "\n",
    "features = {\n",
    "    # 'intents': pd.read_csv(join(base_dir, 'features', 'features-intents.csv'), header=0),\n",
    "    # 'api': pd.read_csv(join(base_dir, 'features', 'features-api.csv')),\n",
    "    # 'permissions': pd.read_csv(join(base_dir, 'features', 'features-permissions.csv')),\n",
    "    'classes': pd.read_csv(join(path_dataset, 'motodroid-v2-features-classes.csv')),\n",
    "    'all': pd.read_csv(join(path_dataset, 'motodroid-v2-features-all.csv')),\n",
    "    # 'int8': pd.read_csv(join(base_dir, 'features', 'features-int8.csv')),\n",
    "}"
   ]
  },
  {
   "cell_type": "code",
   "execution_count": null,
   "id": "cce783a5-a320-468b-b3f6-db5b120aae7e",
   "metadata": {},
   "outputs": [],
   "source": [
    "features['all']"
   ]
  },
  {
   "cell_type": "markdown",
   "id": "ad6e1e1f-5bef-43ef-8fac-8fd5496293ef",
   "metadata": {
    "tags": []
   },
   "source": [
    "## Load Motodroid RAW dataset"
   ]
  },
  {
   "cell_type": "code",
   "execution_count": null,
   "id": "55c9f324-c93d-4f80-a068-78530131caa8",
   "metadata": {},
   "outputs": [],
   "source": [
    "files = dataframe(os.listdir(join(paths['datasets'], 'motodroid-v2')), columns=['filename'])\n",
    "files"
   ]
  },
  {
   "cell_type": "code",
   "execution_count": null,
   "id": "e5e721b3-f41e-4d2b-9445-36aa8c0e15fd",
   "metadata": {},
   "outputs": [],
   "source": [
    "# path = 'C:\\\\motodroid\\\\MotoDroid_VT_AZ_100K_int.csv'\n",
    "dataset_name = files['filename'].iloc[2]\n",
    "print(dataset_name)\n",
    "\n",
    "path = join(paths['datasets'], 'motodroid-v2', dataset_name)\n",
    "print(path)"
   ]
  },
  {
   "cell_type": "code",
   "execution_count": null,
   "id": "1e6015c2-c8b2-4f2a-9834-fa1e40d9d4a7",
   "metadata": {},
   "outputs": [],
   "source": [
    "# data = pd.read_csv(\n",
    "#     path, \n",
    "#     usecols=features['all']['index'].values, \n",
    "#     dtype=np.int8,\n",
    "#     # nrows=1000\n",
    "# )\n",
    "\n",
    "# # data.head()\n",
    "\n",
    "# print(data.info())\n",
    "\n",
    "# # DATAFRAM WITH CHUNK\n",
    "# count = 0\n",
    "# for df in tqdm(pd.read_csv(\n",
    "#     path,  \n",
    "#     chunksize=5000, \n",
    "#     usecols=features['all']['index'].values, \n",
    "#     dtype=np.int8)):\n",
    "#     # print(df.shape)\n",
    "#     np.save(join(paths['data'], str(count)+'_motodroid.npy'), df.values)\n",
    "#     count = count +1"
   ]
  },
  {
   "cell_type": "code",
   "execution_count": null,
   "id": "fd60b321-a516-4f95-93b5-d8f5b9285a66",
   "metadata": {},
   "outputs": [],
   "source": [
    "dataframe(data.columns, columns=['features']).to_csv('motodroid-v2-features.csv')"
   ]
  },
  {
   "cell_type": "markdown",
   "id": "795e81cf-3ee1-4b88-ac81-36aca59be22e",
   "metadata": {
    "tags": []
   },
   "source": [
    "## Process dataset"
   ]
  },
  {
   "cell_type": "code",
   "execution_count": null,
   "id": "2453b08a-8d88-4498-a62b-e19cb032851f",
   "metadata": {},
   "outputs": [],
   "source": [
    "def process_motodroid(path, chunksize, col_index, dtype, path_save):\n",
    "    # DATAFRAM WITH CHUNK\n",
    "    count = 0\n",
    "    for df in tqdm(pd.read_csv(\n",
    "        path,  \n",
    "        chunksize=chunksize, \n",
    "        usecols=col_index, #features['all']['index'].values, \n",
    "        dtype=dtype)):\n",
    "        # print(df.shape)\n",
    "        np.save(join(path_save, str(count)+'_motodroid.npy'), df.values)\n",
    "        count = count +1\n",
    "    \n",
    "    return \n",
    "\n",
    "def load_motodroid_chunks(path, base_name='_motodroid', path_save=[]):\n",
    "    \n",
    "    dataset = []\n",
    "    \n",
    "    files = os.listdir(paths['data'])\n",
    "    print('Reading ', len(files), ' files...')\n",
    "    for i in tqdm( range(0, len(files))):\n",
    "\n",
    "        name = str(i)+base_name+'.npy'\n",
    "        path_name = join(paths['data'], name)\n",
    "        # print(path_name)\n",
    "\n",
    "        data__ = np.load(path_name)\n",
    "        dataset.append(data__)\n",
    "    dataset = np.concatenate(dataset)\n",
    "    \n",
    "    print(dataset.shape)\n",
    "    \n",
    "    if path_save:\n",
    "        np.save(join(path_save, 'motodroid-dataset.npy'), dataset)\n",
    "    return dataset"
   ]
  },
  {
   "cell_type": "code",
   "execution_count": null,
   "id": "0afb9afe-ede1-4aca-bb98-c7f3a0a1484d",
   "metadata": {},
   "outputs": [],
   "source": [
    "dataset = load_motodroid_chunks(path=paths['data'], \n",
    "                                base_name='_motodroid',\n",
    "                                path_save=paths['processed'])"
   ]
  },
  {
   "cell_type": "markdown",
   "id": "fe6e1d4e-864c-490b-b98e-ff25aaa27716",
   "metadata": {},
   "source": [
    "### Process labels"
   ]
  },
  {
   "cell_type": "code",
   "execution_count": null,
   "id": "9816eb5b-8124-4522-921b-9689fc314a3c",
   "metadata": {},
   "outputs": [],
   "source": [
    "def process_motodroid_labels(path, usecols, path_save=[]):\n",
    "    df_labels = pd.read_csv(\n",
    "        path,\n",
    "        usecols=usecols\n",
    "    )\n",
    "    \n",
    "    if path_save:\n",
    "        np.save(join(path_save, 'motodroid-dataset_labels.npy'), df_labels)\n",
    "        df_labels.to_csv(path_save, 'motodroid-dataset_labels.csv')\n",
    "    return df_labels\n",
    "\n",
    "\n",
    "\n",
    "def create_class(df, threshold):\n",
    "    return [1 if i>=threshold else 0 for i in df ]\n",
    "    "
   ]
  },
  {
   "cell_type": "code",
   "execution_count": null,
   "id": "03139292-92ac-44f4-ae92-6d49243a9f26",
   "metadata": {},
   "outputs": [],
   "source": [
    "df_labels = process_motodroid_labels(\n",
    "    path=path, \n",
    "    usecols=features['classes']['index'].values, \n",
    "    # path_save=paths['processed']\n",
    ")\n",
    "df_labels.head()"
   ]
  },
  {
   "cell_type": "code",
   "execution_count": null,
   "id": "42f472c8-a342-4660-adea-01cb9504f807",
   "metadata": {},
   "outputs": [],
   "source": [
    "## https://www.tensorflow.org/api_docs/python/tf/data/experimental/make_csv_dataset"
   ]
  },
  {
   "cell_type": "code",
   "execution_count": null,
   "id": "65171a98-6c13-4cf2-9da9-23d6409d79bd",
   "metadata": {},
   "outputs": [],
   "source": [
    "df_labels['SHA256'].iloc[2]"
   ]
  },
  {
   "cell_type": "code",
   "execution_count": null,
   "id": "72c378a1-fccb-4047-8f0a-60009c43119b",
   "metadata": {},
   "outputs": [],
   "source": [
    "df_labels['vt_detection']"
   ]
  },
  {
   "cell_type": "code",
   "execution_count": null,
   "id": "defc1540-3944-4338-9483-29147bc935ee",
   "metadata": {},
   "outputs": [],
   "source": [
    "np.unique(df_labels['vt_detection'])"
   ]
  },
  {
   "cell_type": "code",
   "execution_count": null,
   "id": "dfca131d-b58f-4d54-94d6-6eb83c8cf6a9",
   "metadata": {
    "scrolled": true,
    "tags": []
   },
   "outputs": [],
   "source": [
    "class__ = create_class(df=df_labels['vt_detection'] , threshold=2)\n",
    "\n",
    "# class__"
   ]
  },
  {
   "cell_type": "code",
   "execution_count": null,
   "id": "207d304f-a344-4aa9-b9d6-465a566bec8c",
   "metadata": {},
   "outputs": [],
   "source": [
    "df = dataframe(df_labels['CLASS'].values, columns=['1-class'])\n",
    "df"
   ]
  },
  {
   "cell_type": "code",
   "execution_count": null,
   "id": "d77d958b-fc70-4679-b472-57b6ceca6e83",
   "metadata": {},
   "outputs": [],
   "source": [
    "for vt in np.unique(df_labels['vt_detection']):\n",
    "    # print(vt)\n",
    "    if vt > 1:\n",
    "        class__ = create_class(df=df_labels['vt_detection'] , threshold=vt)\n",
    "        class_name = str(vt)+'-class'\n",
    "        df[class_name] = class__\n"
   ]
  },
  {
   "cell_type": "code",
   "execution_count": null,
   "id": "c23056e1-a3fa-40aa-ad66-083943821e5a",
   "metadata": {},
   "outputs": [],
   "source": [
    "df"
   ]
  },
  {
   "cell_type": "code",
   "execution_count": null,
   "id": "b964dd54-999f-4e80-8d4b-262debcf9347",
   "metadata": {
    "scrolled": true,
    "tags": []
   },
   "outputs": [],
   "source": [
    "for c in df.columns:\n",
    "    values, counts = np.unique(df[c], return_counts=True)\n",
    "    print(c, counts)\n"
   ]
  },
  {
   "cell_type": "code",
   "execution_count": null,
   "id": "f693b77d-708f-4ee8-9e35-7f0286a0f1eb",
   "metadata": {},
   "outputs": [],
   "source": [
    "df.to_csv(join(paths['processed'], 'motodroid-v2-vt_labels.csv'))"
   ]
  },
  {
   "cell_type": "code",
   "execution_count": null,
   "id": "2ffab638-cc13-490f-ba53-2e3a51a814a7",
   "metadata": {},
   "outputs": [],
   "source": [
    "# dataset = tf.data.experimental.make_csv_dataset(filename__[0], \n",
    "#                                                 batch_size=10,\n",
    "#                                                 num_epochs=2,\n",
    "#                                                 shuffle=True\n",
    "#                                                )\n"
   ]
  },
  {
   "cell_type": "markdown",
   "id": "033da391-b3ca-4702-88c9-8afa3865c7ea",
   "metadata": {
    "tags": []
   },
   "source": [
    "## Load Processed data"
   ]
  },
  {
   "cell_type": "code",
   "execution_count": null,
   "id": "13e21926-b58a-4130-80b0-1768d1e65e6a",
   "metadata": {},
   "outputs": [],
   "source": [
    "def select_columns__(arr, col_indices):\n",
    "    data = arr[:, col_indices]\n",
    "    return data"
   ]
  },
  {
   "cell_type": "code",
   "execution_count": null,
   "id": "74e62fa9-2d3e-431a-ba07-c6abde3f5743",
   "metadata": {},
   "outputs": [],
   "source": [
    "select_columns =  pd.read_csv(join(paths['processed'], 'features-non-api.csv'))\n",
    "select_columns"
   ]
  },
  {
   "cell_type": "code",
   "execution_count": null,
   "id": "7743e6a4-b5dd-4826-ace4-0084ec57e1d4",
   "metadata": {},
   "outputs": [],
   "source": [
    "df_labels = dataframe(df_labels, columns=select_columns['features'])\n"
   ]
  },
  {
   "cell_type": "code",
   "execution_count": null,
   "id": "dd988717-0066-4092-a63b-7329dd660f01",
   "metadata": {},
   "outputs": [],
   "source": [
    "if not select_columns.empty:\n",
    "    print('Selected columns')\n",
    "    dataset = np.load(join(paths['processed'], 'motodroid.npy'))\n",
    "    dataset = select_columns__(arr=dataset, col_indices=select_columns['index'].values)\n",
    "    df_labels = np.load(join(paths['processed'], 'motodroid_labels.npy'), allow_pickle=True)\n",
    "    column_names = pd.read_csv(join(paths['processed'], 'label_names.csv'))\n",
    "    df_labels = dataframe(df_labels, columns=column_names['features'])\n",
    "    \n",
    "else:\n",
    "    dataset = np.load(join(paths['processed'], 'motodroid.npy'))\n",
    "    df_labels = np.load(join(paths['processed'], 'motodroid_labels.npy'))\n",
    "    column_names = pd.read_csv(join(paths['processed'], 'features-int8.csv'))"
   ]
  },
  {
   "cell_type": "code",
   "execution_count": null,
   "id": "fcee4698-6e73-46f7-a1f5-e164373d6274",
   "metadata": {},
   "outputs": [],
   "source": [
    "print(dataset.shape, df_labels.shape)"
   ]
  },
  {
   "cell_type": "code",
   "execution_count": null,
   "id": "83385c4b-32b6-4365-9cdf-d292fbcb525c",
   "metadata": {},
   "outputs": [],
   "source": [
    "dataset.shape"
   ]
  },
  {
   "cell_type": "code",
   "execution_count": null,
   "id": "5be60019-847d-4535-bc64-0a60ebf9011b",
   "metadata": {},
   "outputs": [],
   "source": [
    "df_labels['CLASS']"
   ]
  },
  {
   "cell_type": "markdown",
   "id": "7e65cc5e-c874-4242-a69e-03a9c3a998c8",
   "metadata": {},
   "source": [
    "# Load Motodroid dataset"
   ]
  },
  {
   "cell_type": "code",
   "execution_count": null,
   "id": "7d34b451-07c9-46f4-9203-46b30970ebef",
   "metadata": {},
   "outputs": [],
   "source": [
    "os.listdir(paths['processed'])"
   ]
  },
  {
   "cell_type": "code",
   "execution_count": null,
   "id": "5cfb8aad-a1a9-4798-8377-084906e47747",
   "metadata": {},
   "outputs": [],
   "source": [
    "def load_motodroid(path, dataset_name):\n",
    "    dataset = np.load(join(path, dataset_name+'.npy'))\n",
    "    # df_labels = np.load(join(path, dataset_name+'_labels.npy'))\n",
    "    data_labels = pd.read_csv(join(path, dataset_name+'_labels.csv'))\n",
    "    vt_labels = pd.read_csv(join(path, dataset_name+'-vt_labels.csv'))\n",
    "    vt_labels.drop(columns=['index'], inplace=True)\n",
    "    classes_names = ['authentic', 'malware']\n",
    "    return dataset, data_labels, vt_labels, classes_names\n",
    "\n",
    "def plot_grid(vt_labels, path_save= [], name='plot grid', figsize=(18, 20)):\n",
    "    fig = plt.figure(figsize=figsize)\n",
    "    for i, vt in zip (range(0, vt_labels.shape[0]), vt_labels.columns):\n",
    "        # print(i, idx)\n",
    "        ax = plt.subplot(7, 6, i + 1)\n",
    "        # plt.plot(X[idx_sample])\n",
    "        unique_tr, counts_tr = np.unique(vt_labels[vt], return_counts=True)\n",
    "\n",
    "        plt.pie(counts_tr, autopct=lambda p : '{:.1f}% ({:,.0f})'.format(p, p * sum(counts_tr)/100), radius=1.5)\n",
    "\n",
    "        plt.title(vt)\n",
    "        # plt.ylim(ylim)\n",
    "        plt.axis(\"off\")\n",
    "    plt.tight_layout(pad=0.4, w_pad=0.5, h_pad=1.0)\n",
    "    plt.show()\n",
    "    if path_save:\n",
    "        fig.savefig(os.path.join(path_save, name+'.png'), format='png', bbox_inches='tight')\n",
    "    return \n",
    "\n",
    "def class_distribution(y_data, classes):\n",
    "        unique_tr, counts_tr = np.unique(y_data, return_counts=True)\n",
    "        dict(zip(unique_tr, counts_tr))\n",
    "\n",
    "        pie = plt.pie(counts_tr, autopct=lambda p : '{:.1f}% ({:,.0f})'.format(p, p * sum(counts_tr)/100), radius=1)\n",
    "        plt.legend(pie[0], shadow=True, loc=\"lower right\", \n",
    "                                  bbox_transform=plt.gcf().transFigure)\n",
    "        plt.show()"
   ]
  },
  {
   "cell_type": "code",
   "execution_count": null,
   "id": "a405ea1a-f9f7-456d-885d-775383ac66a5",
   "metadata": {},
   "outputs": [],
   "source": [
    "data, data_labels, vt_labels, classes_names = load_motodroid(\n",
    "    path=paths['processed'], \n",
    "    dataset_name='motodroid-v2'\n",
    ")"
   ]
  },
  {
   "cell_type": "code",
   "execution_count": null,
   "id": "bbf1777d-d7a1-493e-926e-7b5261ee1445",
   "metadata": {},
   "outputs": [],
   "source": [
    "print(data.shape)\n",
    "\n"
   ]
  }
 ],
 "metadata": {
  "kernelspec": {
   "display_name": "Python 3 (ipykernel)",
   "language": "python",
   "name": "python3"
  },
  "language_info": {
   "codemirror_mode": {
    "name": "ipython",
    "version": 3
   },
   "file_extension": ".py",
   "mimetype": "text/x-python",
   "name": "python",
   "nbconvert_exporter": "python",
   "pygments_lexer": "ipython3",
   "version": "3.12.0"
  }
 },
 "nbformat": 4,
 "nbformat_minor": 5
}
